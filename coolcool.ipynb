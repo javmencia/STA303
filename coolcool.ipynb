{
 "cells": [
  {
   "cell_type": "markdown",
   "id": "89f442f1",
   "metadata": {},
   "source": [
    "# Results"
   ]
  },
  {
   "cell_type": "code",
   "execution_count": null,
   "id": "3987b68b",
   "metadata": {},
   "outputs": [],
   "source": [
    "import pandas as pd; import numpy as np\n",
    "import matplotlib.pyplot as plt"
   ]
  },
  {
   "cell_type": "markdown",
   "id": "e43f5782",
   "metadata": {},
   "source": [
    "## For fair poster"
   ]
  },
  {
   "cell_type": "code",
   "execution_count": null,
   "id": "cf1c51fa",
   "metadata": {},
   "outputs": [],
   "source": [
    "data = pd.read_csv(\"https://raw.githubusercontent.com/javmencia/COBWEBfiles/basecase/basecase1.csv\", sep=\"\\t\")"
   ]
  },
  {
   "cell_type": "code",
   "execution_count": null,
   "id": "459d2bb1",
   "metadata": {
    "lines_to_end_of_cell_marker": 2
   },
   "outputs": [],
   "source": [
    "\n",
    "temp = np.zeros(1500)\n",
    "\n",
    "for a in range(len(data)):\n",
    "    if data['Death'][a]==-1:\n",
    "        alive = [data['Birth'][a], 1500]\n",
    "    elif data['Birth'][a]==-1:\n",
    "        alive = [0, data['Death'][a]+1]\n",
    "    else:\n",
    "        alive = [data['Birth'][a], data['Death'][a]+1]\n",
    "    incr = np.ones(alive[1]-alive[0])\n",
    "    for i in range(alive[0], alive[1]):\n",
    "        if i<1500:\n",
    "             temp[i] += 1"
   ]
  },
  {
   "cell_type": "code",
   "execution_count": null,
   "id": "414dcf2f",
   "metadata": {
    "lines_to_next_cell": 2
   },
   "outputs": [],
   "source": [
    "for i in range(n):\n",
    "    for j in range(len(data)):\n",
    "        timestamp[i] +=(i in range(data['Birth'][j],data['Death'][j]+1))"
   ]
  },
  {
   "cell_type": "code",
   "execution_count": null,
   "id": "fa46a76a",
   "metadata": {},
   "outputs": [],
   "source": [
    "import random\n",
    "\n",
    "# Generate random increments for the first 800 numbers with more fluctuations\n",
    "increments_first_800 = [random.uniform(-1, 2) for _ in range(500)]\n",
    "\n",
    "# Initialize the array with the starting value around 350\n",
    "time_series = [round(random.uniform(700, 710), 2)]\n",
    "\n",
    "# Generate the first 800 numbers ensuring they increase up to around 800 with fluctuations\n",
    "for i in range(1, 500):\n",
    "    next_val = time_series[-1] + increments_first_800[i - 1]\n",
    "    if next_val > 900:\n",
    "        next_val = time_series[-1] - abs(increments_first_800[i - 1])\n",
    "    time_series.append(next_val)\n",
    "\n",
    "# Generate the next 400 numbers staying within 700 and 900\n",
    "for _ in range(500):\n",
    "    next_val = time_series[-1] + random.uniform(-5, 5)\n",
    "    if next_val > 900:\n",
    "        next_val = 900\n",
    "    elif next_val < 700:\n",
    "        next_val = 700\n",
    "    time_series.append(next_val)\n",
    "\n",
    "print(time_series)\n"
   ]
  },
  {
   "cell_type": "code",
   "execution_count": null,
   "id": "91512943",
   "metadata": {},
   "outputs": [],
   "source": [
    "x = [i for i in range(1500)]\n",
    "plt.plot(np.concatenate((temp[:500],time_series)))\n",
    "plt.ylim(0, 1500)\n",
    "plt.axvspan(0, 250, color='maroon', alpha=0.2, lw=0)\n",
    "plt.axvspan(250, 500, color='red', alpha=0.2, lw=0)\n",
    "plt.axvspan(500, 1500, color='orange', alpha=0.2, lw=0)\n",
    "plt.title(\"Ideal solution: Agent counts over time\")\n",
    "plt.axvline(x = 0, color = 'maroon', label = 'Stage 0')\n",
    "plt.axvline(x = 250, color = 'red', label = 'Stage 1')\n",
    "plt.axvline(x = 500, color = 'orange', label = 'Stage 2')\n",
    "plt.axvline(x = 1500, color = 'yellow', label = 'Stage 4')\n",
    "plt.text(0, 250, 'Stage 1', fontsize = 10, color =\"white\", \n",
    "         bbox = dict(facecolor = 'maroon', alpha = 0.5))\n",
    "plt.text(250, 500, 'Stage 2', fontsize = 10, color =\"white\", \n",
    "         bbox = dict(facecolor = 'red', alpha = 0.5))\n",
    "plt.text(500, 1000, 'Stage 3', fontsize = 10, color =\"black\", \n",
    "         bbox = dict(facecolor = 'orange', alpha = 0.5))\n",
    "plt.text(1350, 1150, 'Stage 4', fontsize = 10, color =\"black\", \n",
    "         bbox = dict(facecolor = 'yellow', alpha = 0.5))"
   ]
  },
  {
   "cell_type": "markdown",
   "id": "0afc34f6",
   "metadata": {},
   "source": [
    "## Pollution"
   ]
  },
  {
   "cell_type": "code",
   "execution_count": null,
   "id": "10c66ea8",
   "metadata": {},
   "outputs": [],
   "source": [
    "n=10\n",
    "data = []\n",
    "timestamp = []\n",
    "for i in range(11,n+11):\n",
    "  data.append(pd.read_csv(\"https://raw.githubusercontent.com/javmencia/COBWEBfiles/main/{}.csv\".format(i), sep=\"\\t\"))"
   ]
  },
  {
   "cell_type": "code",
   "execution_count": null,
   "id": "db5de73e",
   "metadata": {},
   "outputs": [],
   "source": [
    "ts = []\n",
    "for i in range(n):\n",
    "  print(i)\n",
    "  d =data[i]\n",
    "  temp = np.zeros(2000)\n",
    "  for j in range(2000):\n",
    "    for k in range(len(d)):\n",
    "        temp[j] +=(j in range(d['Birth'][k],d['Death'][k]+1))\n",
    "  timestamp.append(temp)"
   ]
  },
  {
   "cell_type": "code",
   "execution_count": null,
   "id": "01a2b0a7",
   "metadata": {},
   "outputs": [],
   "source": [
    "print(len(timestamp[0]))\n",
    "x = [[i in range(len(timestamp[j]))] for j in range(n)] \n",
    "for i in range(n):\n",
    "    plt.plot(timestamp[i][:1500], color = \"lightskyblue\")\n",
    "plt.plot([sum(values) / len(values) for values in zip(*timestamp)][:1500], color =\"navy\", linewidth = 2, linestyle='--')\n",
    "plt.text(700, 550, \"Average\", fontsize=12, color='navy')\n",
    "plt.ylim(ymin=0)\n",
    "plt.title('Pollution: Agent count over time to 1500 ticks')"
   ]
  },
  {
   "cell_type": "markdown",
   "id": "32b3a607",
   "metadata": {},
   "source": [
    "### Base Case"
   ]
  },
  {
   "cell_type": "code",
   "execution_count": null,
   "id": "0a64613b",
   "metadata": {},
   "outputs": [],
   "source": [
    "n=10\n",
    "data = []\n",
    "timestamp0 = []\n",
    "for i in range(1,n+1):\n",
    "  data.append(pd.read_csv(\"https://raw.githubusercontent.com/javmencia/COBWEBfiles/basecase/basecase{}.csv\".format(i), sep=\"\\t\"))"
   ]
  },
  {
   "cell_type": "code",
   "execution_count": null,
   "id": "e6bb5e66",
   "metadata": {},
   "outputs": [],
   "source": [
    "ts = []\n",
    "for i in range(n):\n",
    "  print(i)\n",
    "  d =data[i]\n",
    "  temp = np.zeros(1500)\n",
    "  for j in range(1500):\n",
    "    for k in range(len(d)):\n",
    "        temp[j] +=(j in range(d['Birth'][k],d['Death'][k]+1))\n",
    "  timestamp0.append(temp)"
   ]
  },
  {
   "cell_type": "code",
   "execution_count": null,
   "id": "4648e08c",
   "metadata": {},
   "outputs": [],
   "source": [
    "print(len(timestamp0[0]))\n",
    "x = [[i in range(len(timestamp0[j]))] for j in range(n)] \n",
    "for i in range(n):\n",
    "    plt.plot(timestamp0[i][:1500], color = 'lightskyblue')\n",
    "plt.plot([sum(values) / len(values) for values in zip(*timestamp0)][:1500], color =\"navy\", linewidth = 2, linestyle='--')\n",
    "plt.text(700, 325, \"Average\", fontsize=12, color='black')\n",
    "plt.ylim(ymin=0)\n",
    "plt.title('Base case: Agent count over time to 1000 ticks')"
   ]
  },
  {
   "cell_type": "markdown",
   "id": "1dd92c33",
   "metadata": {},
   "source": [
    "Immigrants"
   ]
  },
  {
   "cell_type": "code",
   "execution_count": null,
   "id": "d2bbb455",
   "metadata": {},
   "outputs": [],
   "source": [
    "n=8\n",
    "data = []\n",
    "timestamp2 = []\n",
    "for i in range(6,n+6):\n",
    "  data.append(pd.read_csv(\"https://raw.githubusercontent.com/javmencia/COBWEBfiles/immigrants/immigrant{}.csv\".format(i), sep=\"\\t\"))"
   ]
  },
  {
   "cell_type": "code",
   "execution_count": null,
   "id": "6e7a51e2",
   "metadata": {},
   "outputs": [],
   "source": [
    "print(max(data[0]['Death']))"
   ]
  },
  {
   "cell_type": "code",
   "execution_count": null,
   "id": "ffafd6f2",
   "metadata": {},
   "outputs": [],
   "source": [
    "ts = []\n",
    "for i in range(n):\n",
    "  print(i)\n",
    "  d =data[i]\n",
    "  temp = np.zeros(1500)\n",
    "  for j in range(1500):\n",
    "    for k in range(len(d)):\n",
    "        temp[j] +=(j in range(d['Birth'][k],d['Death'][k]+1))\n",
    "  timestamp2.append(temp)"
   ]
  },
  {
   "cell_type": "code",
   "execution_count": null,
   "id": "b82dca4a",
   "metadata": {},
   "outputs": [],
   "source": [
    "print(len(timestamp2[0]))\n",
    "x = [[i in range(len(timestamp2[j]))] for j in range(n)] \n",
    "for i in range(n):\n",
    "    plt.plot(timestamp2[i][500:1500], color = \"lightskyblue\")\n",
    "plt.plot([sum(values) / len(values) for values in zip(*timestamp2)][500:1500], color =\"navy\", linewidth = 2, linestyle='--')\n",
    "plt.text(700, 550, \"Average\", fontsize=12, color='navy')\n",
    "plt.ylim(ymin=0)\n",
    "plt.title('Immigration: Agent count over time to 1500 ticks')"
   ]
  },
  {
   "cell_type": "markdown",
   "id": "18a03a5c",
   "metadata": {},
   "source": [
    "### Tests"
   ]
  },
  {
   "cell_type": "code",
   "execution_count": null,
   "id": "52f58d0c",
   "metadata": {},
   "outputs": [],
   "source": [
    "#Store the average of the time series in a0 and a1\n",
    "a0 =[sum(values) / len(values) for values in zip(*timestamp0)]\n",
    "a1 =[sum(values) / len(values) for values in zip(*timestamp)]\n",
    "\n",
    "plt.plot(a1[:1500], color ='steelblue', label ='Pollution removed')\n",
    "plt.plot(a0[:1500], color = 'mediumpurple', label = 'Base case')\n",
    "\n",
    "plt.ylim(ymin=0)\n",
    "plt.legend(loc=\"lower left\")\n",
    "plt.title('Average of both 1500 ticks')"
   ]
  },
  {
   "cell_type": "markdown",
   "id": "8911ff09",
   "metadata": {
    "lines_to_next_cell": 2
   },
   "source": [
    "Mann-Whitney U test for short term "
   ]
  },
  {
   "cell_type": "code",
   "execution_count": null,
   "id": "2409a5f3",
   "metadata": {},
   "outputs": [],
   "source": [
    "from scipy.stats import mannwhitneyu\n",
    "\n",
    "decay_hump = a0[525:550]  # Assuming the hump occurs in the first three points\n",
    "hump_hump = a1[525:550]\n",
    "\n",
    "# Perform the Mann-Whitney U test\n",
    "u_statistic, p_value = mannwhitneyu(decay_hump, hump_hump)\n",
    "\n",
    "# Print the results\n",
    "print(\"Mann-Whitney U test for the hump:\")\n",
    "print(\"U statistic:\", u_statistic)\n",
    "print(\"p-value:\", p_value)\n",
    "\n",
    "# Check for significance at a chosen alpha level (e.g., alpha = 0.05)\n",
    "alpha = 0.05\n",
    "if p_value < alpha:\n",
    "    print(\"The case where pollution is removed is significantly different in the short term.\")\n",
    "else:\n",
    "    print(\"The case where pollution is removed is not significantly different in the short term.\")"
   ]
  },
  {
   "cell_type": "markdown",
   "id": "87295ca8",
   "metadata": {},
   "source": [
    "Pearson R-test for long term"
   ]
  },
  {
   "cell_type": "code",
   "execution_count": null,
   "id": "4637fe2a",
   "metadata": {},
   "outputs": [],
   "source": [
    "from scipy.stats import pearsonr\n",
    "# Calculate the Pearson correlation coefficient between the two time series\n",
    "correlation_coefficient, p_value = pearsonr(a0[500:1000], a1[500:1000])\n",
    "\n",
    "# Print the Pearson correlation coefficient\n",
    "print(\"Pearson correlation coefficient:\", correlation_coefficient)\n",
    "\n",
    "# Interpret the coefficient: closer to 1 indicates more similar patterns\n",
    "# You can set a threshold to determine if the patterns are significantly different\n",
    "# For example:\n",
    "threshold = 0.5  # Adjust the threshold based on your data and requirements\n",
    "if correlation_coefficient > threshold:\n",
    "    print(\"The overall patterns of the two time series are similar.\")\n",
    "else:\n",
    "    print(\"The overall patterns of the two time series are significantly different.\")"
   ]
  },
  {
   "cell_type": "code",
   "execution_count": null,
   "id": "807df1fc",
   "metadata": {},
   "outputs": [],
   "source": [
    "from statsmodels.tsa.stattools import adfuller\n",
    "\n",
    "# Perform Augmented Dickey-Fuller test for stationarity on a1\n",
    "adf_result_a1 = adfuller(a1)\n",
    "print(\"Augmented Dickey-Fuller test for stationarity (a1):\")\n",
    "print(\"ADF Statistic:\", adf_result_a1[0])\n",
    "print(\"p-value:\", adf_result_a1[1])\n",
    "\n",
    "# Perform Augmented Dickey-Fuller test for stationarity on a0\n",
    "adf_result_a0 = adfuller(a0)\n",
    "print(\"\\nAugmented Dickey-Fuller test for stationarity (a0):\")\n",
    "print(\"ADF Statistic:\", adf_result_a0[0])\n",
    "print(\"p-value:\", adf_result_a0[1])\n"
   ]
  }
 ],
 "metadata": {
  "jupytext": {
   "cell_metadata_filter": "-all",
   "notebook_metadata_filter": "-all",
   "text_representation": {
    "extension": ".py",
    "format_name": "light"
   }
  },
  "kernelspec": {
   "display_name": "Python 3 (ipykernel)",
   "language": "python",
   "name": "python3"
  }
 },
 "nbformat": 4,
 "nbformat_minor": 5
}
